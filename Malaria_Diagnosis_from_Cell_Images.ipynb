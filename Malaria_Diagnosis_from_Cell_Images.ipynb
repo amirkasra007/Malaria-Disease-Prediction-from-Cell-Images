{
  "nbformat": 4,
  "nbformat_minor": 0,
  "metadata": {
    "accelerator": "GPU",
    "colab": {
      "name": "Malaria Diagnosis from Cell Images.ipynb",
      "provenance": [],
      "collapsed_sections": []
    },
    "kernelspec": {
      "display_name": "Python 3",
      "name": "python3"
    }
  },
  "cells": [
    {
      "cell_type": "markdown",
      "metadata": {
        "id": "3DR-eO17geWu"
      },
      "source": [
        "# Malaria Disease Prediction from CT Cell Images"
      ]
    },
    {
      "cell_type": "code",
      "metadata": {
        "colab": {
          "base_uri": "https://localhost:8080/"
        },
        "id": "VpvVMm6c2Hlp",
        "outputId": "cc4a03bc-ef52-4f1e-ce4f-914652c01cdb"
      },
      "source": [
        "from google.colab import drive\n",
        "drive.mount('/content/drive')"
      ],
      "execution_count": null,
      "outputs": [
        {
          "name": "stdout",
          "output_type": "stream",
          "text": [
            "Mounted at /content/drive\n"
          ]
        }
      ]
    },
    {
      "cell_type": "code",
      "metadata": {
        "id": "CbNgVkStz5Ju",
        "colab": {
          "resources": {
            "http://localhost:8080/nbextensions/google.colab/files.js": {
              "data": "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",
              "ok": true,
              "headers": [
                [
                  "content-type",
                  "application/javascript"
                ]
              ],
              "status": 200,
              "status_text": ""
            }
          },
          "base_uri": "https://localhost:8080/",
          "height": 89
        },
        "outputId": "e16833de-8007-471e-b817-5ad66634fdab"
      },
      "source": [
        "from google.colab import files\n",
        "files.upload()"
      ],
      "execution_count": null,
      "outputs": [
        {
          "output_type": "display_data",
          "data": {
            "text/html": [
              "\n",
              "     <input type=\"file\" id=\"files-76fc71f6-b5cd-4c57-9021-1704108a0683\" name=\"files[]\" multiple disabled\n",
              "        style=\"border:none\" />\n",
              "     <output id=\"result-76fc71f6-b5cd-4c57-9021-1704108a0683\">\n",
              "      Upload widget is only available when the cell has been executed in the\n",
              "      current browser session. Please rerun this cell to enable.\n",
              "      </output>\n",
              "      <script src=\"/nbextensions/google.colab/files.js\"></script> "
            ],
            "text/plain": [
              "<IPython.core.display.HTML object>"
            ]
          },
          "metadata": {}
        },
        {
          "output_type": "stream",
          "name": "stdout",
          "text": [
            "Saving kaggle.json to kaggle.json\n"
          ]
        },
        {
          "output_type": "execute_result",
          "data": {
            "text/plain": [
              "{'kaggle.json': b'{\"username\":\"amirkasraamini\",\"key\":\"e9d3dc0c7d67fe619449aba85338297b\"}'}"
            ]
          },
          "metadata": {},
          "execution_count": 1
        }
      ]
    },
    {
      "cell_type": "code",
      "metadata": {
        "id": "_OTA-8jZ0E1L"
      },
      "source": [
        "!pip install -q kaggle"
      ],
      "execution_count": null,
      "outputs": []
    },
    {
      "cell_type": "code",
      "metadata": {
        "id": "uHY6p34J0J4A"
      },
      "source": [
        "!mkdir -p ~/.kaggle\n",
        "!cp kaggle.json ~/.kaggle/"
      ],
      "execution_count": null,
      "outputs": []
    },
    {
      "cell_type": "code",
      "metadata": {
        "id": "11Ha86L4qTBH"
      },
      "source": [
        "!chmod 600 ~/.kaggle/kaggle.json"
      ],
      "execution_count": null,
      "outputs": []
    },
    {
      "cell_type": "code",
      "metadata": {
        "id": "MCw7LPzH2S3Q",
        "colab": {
          "base_uri": "https://localhost:8080/"
        },
        "outputId": "aa3ec4bb-f156-4b5b-f73b-140ebadb556f"
      },
      "source": [
        "!kaggle datasets download -d iarunava/cell-images-for-detecting-malaria"
      ],
      "execution_count": null,
      "outputs": [
        {
          "output_type": "stream",
          "name": "stdout",
          "text": [
            "Downloading cell-images-for-detecting-malaria.zip to /content\n",
            "100% 673M/675M [00:13<00:00, 76.9MB/s]\n",
            "100% 675M/675M [00:13<00:00, 52.3MB/s]\n"
          ]
        }
      ]
    },
    {
      "cell_type": "code",
      "metadata": {
        "id": "DYz_otzcEj3N"
      },
      "source": [
        "mkdir destination1111"
      ],
      "execution_count": null,
      "outputs": []
    },
    {
      "cell_type": "code",
      "metadata": {
        "id": "ZbavCWs46gEG"
      },
      "source": [
        "!unzip /content/cell-images-for-detecting-malaria.zip -d destination1111"
      ],
      "execution_count": null,
      "outputs": []
    },
    {
      "cell_type": "code",
      "metadata": {
        "id": "f5S2Dl1LGLFA"
      },
      "source": [
        "import shutil\n",
        "shutil.rmtree('/content/destination1111/cell_images/cell_images')"
      ],
      "execution_count": null,
      "outputs": []
    },
    {
      "cell_type": "markdown",
      "metadata": {
        "id": "w7KDpzdNPHpl"
      },
      "source": [
        "## Creating Train / Val / Test folders"
      ]
    },
    {
      "cell_type": "code",
      "metadata": {
        "colab": {
          "base_uri": "https://localhost:8080/"
        },
        "id": "fFrZDcrSt_WL",
        "outputId": "5b9deacb-9660-4b78-a15f-06262c07e35f"
      },
      "source": [
        "import os\n",
        "import numpy as np\n",
        "import shutil\n",
        "import random\n",
        "\n",
        "# # Creating Train / Val / Test folders (One time use)\n",
        "root_dir = '/content/destination1111/cell_images'\n",
        "classes_dir = ['Parasitized', 'Uninfected']\n",
        "\n",
        "val_ratio = 0.15\n",
        "test_ratio = 0.05\n",
        "\n",
        "for cls in classes_dir:\n",
        "    os.makedirs(root_dir +'train/' + cls)\n",
        "    os.makedirs(root_dir +'val/' + cls)\n",
        "    os.makedirs(root_dir +'test/' + cls)\n",
        "\n",
        "\n",
        "  # Creating partitions of the data after shuffeling\n",
        "    src = root_dir + \"/\" +cls   # Folder to copy images from\n",
        "\n",
        "    allFileNames = os.listdir(src)\n",
        "    np.random.shuffle(allFileNames)\n",
        "    train_FileNames, val_FileNames, test_FileNames = np.split(np.array(allFileNames),\n",
        "                                                          [int(len(allFileNames)* (1 - (val_ratio + test_ratio))), \n",
        "                                                           int(len(allFileNames)* (1 - test_ratio))])\n",
        "\n",
        "\n",
        "    train_FileNames = [src+'/'+ name for name in train_FileNames.tolist()]\n",
        "    val_FileNames = [src+'/' + name for name in val_FileNames.tolist()]\n",
        "    test_FileNames = [src+'/' + name for name in test_FileNames.tolist()]\n",
        "\n",
        "    print('Total images: ', len(allFileNames))\n",
        "    print('Training: ', len(train_FileNames))\n",
        "    print('Validation: ', len(val_FileNames))\n",
        "    print('Testing: ', len(test_FileNames))\n",
        "\n",
        "  # Copy-pasting images\n",
        "    for name in train_FileNames:\n",
        "        shutil.move(name, root_dir +'train/' + cls)\n",
        "\n",
        "    for name in val_FileNames:\n",
        "        shutil.move(name, root_dir +'val/' + cls)\n",
        "\n",
        "    for name in test_FileNames:\n",
        "        shutil.move(name, root_dir +'test/' + cls)"
      ],
      "execution_count": null,
      "outputs": [
        {
          "output_type": "stream",
          "name": "stdout",
          "text": [
            "Total images:  13780\n",
            "Training:  11024\n",
            "Validation:  2067\n",
            "Testing:  689\n",
            "Total images:  13780\n",
            "Training:  11024\n",
            "Validation:  2067\n",
            "Testing:  689\n"
          ]
        }
      ]
    },
    {
      "cell_type": "markdown",
      "metadata": {
        "id": "EMefrVPCg-60"
      },
      "source": [
        "### Importing the libraries"
      ]
    },
    {
      "cell_type": "code",
      "metadata": {
        "id": "CSFOt61H3v3V"
      },
      "source": [
        "import tensorflow as tf\n",
        "from keras.preprocessing.image import ImageDataGenerator"
      ],
      "execution_count": null,
      "outputs": []
    },
    {
      "cell_type": "code",
      "metadata": {
        "colab": {
          "base_uri": "https://localhost:8080/",
          "height": 35
        },
        "id": "qlxvT3Xq3x0E",
        "outputId": "ed78f214-101b-4d18-cfad-320dc253fe73"
      },
      "source": [
        "tf.__version__"
      ],
      "execution_count": null,
      "outputs": [
        {
          "output_type": "execute_result",
          "data": {
            "application/vnd.google.colaboratory.intrinsic+json": {
              "type": "string"
            },
            "text/plain": [
              "'2.6.0'"
            ]
          },
          "metadata": {},
          "execution_count": 11
        }
      ]
    },
    {
      "cell_type": "markdown",
      "metadata": {
        "id": "Q7ZlmHjQOgQB"
      },
      "source": [
        "#### Converting the images to arrays, rescaling them, and creating the training, val and test sets."
      ]
    },
    {
      "cell_type": "code",
      "metadata": {
        "colab": {
          "base_uri": "https://localhost:8080/"
        },
        "id": "542pN8RaNIdQ",
        "outputId": "95d71811-24ae-42c5-b375-eab17b15168c"
      },
      "source": [
        "train_datagen = ImageDataGenerator(rescale = 1./255,\n",
        "                                   shear_range = 0.2,\n",
        "                                   zoom_range = 0.2,\n",
        "                                   horizontal_flip = True)\n",
        "\n",
        "training_set = train_datagen.flow_from_directory('/content/destination1111/cell_imagestrain',\n",
        "                                                 target_size = (224, 224),\n",
        "                                                 batch_size = 32,\n",
        "                                                 class_mode = 'binary')"
      ],
      "execution_count": null,
      "outputs": [
        {
          "output_type": "stream",
          "name": "stdout",
          "text": [
            "Found 22046 images belonging to 2 classes.\n"
          ]
        }
      ]
    },
    {
      "cell_type": "code",
      "metadata": {
        "colab": {
          "base_uri": "https://localhost:8080/"
        },
        "id": "Nck6F2SPNQs4",
        "outputId": "605beb38-40a6-4567-efa4-6eee54b54945"
      },
      "source": [
        "test_datagen = ImageDataGenerator(rescale = 1./255)\n",
        "test_set = test_datagen.flow_from_directory('/content/destination1111/cell_imagestest',\n",
        "                                            target_size = (224, 224),\n",
        "                                            batch_size = 32,\n",
        "                                            class_mode = 'binary',\n",
        "                                            shuffle = False)"
      ],
      "execution_count": null,
      "outputs": [
        {
          "output_type": "stream",
          "name": "stdout",
          "text": [
            "Found 1378 images belonging to 2 classes.\n"
          ]
        }
      ]
    },
    {
      "cell_type": "code",
      "metadata": {
        "colab": {
          "base_uri": "https://localhost:8080/"
        },
        "id": "Vtf8RfC8XMUZ",
        "outputId": "89f73880-4069-482c-c3e2-04d1aae21166"
      },
      "source": [
        "val_datagen = ImageDataGenerator(rescale = 1./255)\n",
        "val_set = val_datagen.flow_from_directory('/content/destination1111/cell_imagesval',\n",
        "                                            target_size = (224, 224),\n",
        "                                            batch_size = 32,\n",
        "                                            class_mode = 'binary')"
      ],
      "execution_count": null,
      "outputs": [
        {
          "output_type": "stream",
          "name": "stdout",
          "text": [
            "Found 4134 images belonging to 2 classes.\n"
          ]
        }
      ]
    },
    {
      "cell_type": "markdown",
      "metadata": {
        "id": "af8O4l90gk7B"
      },
      "source": [
        "## Part 1 - Building the deep neural network Model "
      ]
    },
    {
      "cell_type": "markdown",
      "metadata": {
        "id": "ces1gXY2lmoX"
      },
      "source": [
        "### Initialising the CNN"
      ]
    },
    {
      "cell_type": "code",
      "metadata": {
        "id": "jo4D5pUJf189"
      },
      "source": [
        "import keras,os\n",
        "import numpy as np"
      ],
      "execution_count": null,
      "outputs": []
    },
    {
      "cell_type": "code",
      "metadata": {
        "id": "Q5UeWHXrgRdc"
      },
      "source": [
        "from keras.models import Sequential\n",
        "from keras.layers import Dense, Conv2D, MaxPool2D, Flatten, Dropout, Activation"
      ],
      "execution_count": null,
      "outputs": []
    },
    {
      "cell_type": "code",
      "metadata": {
        "id": "wZnqjPkmgXWI"
      },
      "source": [
        "model = Sequential()\n",
        "\n",
        "\n",
        "model.add(Conv2D(input_shape=(224,224,3),filters=64,kernel_size=(3,3),padding=\"same\", activation=\"relu\"))\n",
        "model.add(Conv2D(filters=64,kernel_size=(3,3),padding=\"same\", activation=\"relu\"))\n",
        "model.add(MaxPool2D(pool_size=(2,2),strides=(2,2)))\n",
        "\n",
        "\n",
        "model.add(Conv2D(filters=128, kernel_size=(3,3), padding=\"same\", activation=\"relu\"))\n",
        "model.add(Conv2D(filters=128, kernel_size=(3,3), padding=\"same\", activation=\"relu\"))\n",
        "model.add(MaxPool2D(pool_size=(2,2),strides=(2,2)))\n",
        "\n",
        "\n",
        "model.add(Conv2D(filters=256, kernel_size=(3,3), padding=\"same\", activation=\"relu\"))\n",
        "model.add(Conv2D(filters=256, kernel_size=(3,3), padding=\"same\", activation=\"relu\"))\n",
        "model.add(MaxPool2D(pool_size=(2,2),strides=(2,2)))\n",
        "\n",
        "\n",
        "model.add(Conv2D(filters=512, kernel_size=(3,3), padding=\"same\", activation=\"relu\"))\n",
        "model.add(Conv2D(filters=512, kernel_size=(3,3), padding=\"same\", activation=\"relu\"))\n",
        "model.add(MaxPool2D(pool_size=(2,2),strides=(2,2)))\n"
      ],
      "execution_count": null,
      "outputs": []
    },
    {
      "cell_type": "code",
      "metadata": {
        "id": "b0-jTRaEgXe9"
      },
      "source": [
        "model.add(Flatten())\n",
        "model.add(Dense(units=512,activation=\"relu\"))\n",
        "model.add(Dense(units=1024,activation=\"relu\"))\n",
        "model.add(Dense(units=1, activation=\"sigmoid\"))"
      ],
      "execution_count": null,
      "outputs": []
    },
    {
      "cell_type": "markdown",
      "metadata": {
        "id": "LX3SovP-JbZh"
      },
      "source": [
        "### Definig the optimizer and compiling the model"
      ]
    },
    {
      "cell_type": "code",
      "metadata": {
        "id": "oMI0KCnMgmcV"
      },
      "source": [
        "opt = tf.keras.optimizers.Adam(learning_rate=0.0001)"
      ],
      "execution_count": null,
      "outputs": []
    },
    {
      "cell_type": "code",
      "metadata": {
        "id": "m63iqRvtgmnD"
      },
      "source": [
        "model.compile(loss='binary_crossentropy', optimizer=opt, metrics=['accuracy'])"
      ],
      "execution_count": null,
      "outputs": []
    },
    {
      "cell_type": "code",
      "metadata": {
        "id": "rSIIy57Dgr2-",
        "colab": {
          "base_uri": "https://localhost:8080/"
        },
        "outputId": "32028307-a201-48d7-c97f-0a6e280da759"
      },
      "source": [
        "model.summary()"
      ],
      "execution_count": null,
      "outputs": [
        {
          "output_type": "stream",
          "name": "stdout",
          "text": [
            "Model: \"sequential\"\n",
            "_________________________________________________________________\n",
            "Layer (type)                 Output Shape              Param #   \n",
            "=================================================================\n",
            "conv2d (Conv2D)              (None, 224, 224, 64)      1792      \n",
            "_________________________________________________________________\n",
            "conv2d_1 (Conv2D)            (None, 224, 224, 64)      36928     \n",
            "_________________________________________________________________\n",
            "max_pooling2d (MaxPooling2D) (None, 112, 112, 64)      0         \n",
            "_________________________________________________________________\n",
            "conv2d_2 (Conv2D)            (None, 112, 112, 128)     73856     \n",
            "_________________________________________________________________\n",
            "conv2d_3 (Conv2D)            (None, 112, 112, 128)     147584    \n",
            "_________________________________________________________________\n",
            "max_pooling2d_1 (MaxPooling2 (None, 56, 56, 128)       0         \n",
            "_________________________________________________________________\n",
            "conv2d_4 (Conv2D)            (None, 56, 56, 256)       295168    \n",
            "_________________________________________________________________\n",
            "conv2d_5 (Conv2D)            (None, 56, 56, 256)       590080    \n",
            "_________________________________________________________________\n",
            "max_pooling2d_2 (MaxPooling2 (None, 28, 28, 256)       0         \n",
            "_________________________________________________________________\n",
            "conv2d_6 (Conv2D)            (None, 28, 28, 512)       1180160   \n",
            "_________________________________________________________________\n",
            "conv2d_7 (Conv2D)            (None, 28, 28, 512)       2359808   \n",
            "_________________________________________________________________\n",
            "max_pooling2d_3 (MaxPooling2 (None, 14, 14, 512)       0         \n",
            "_________________________________________________________________\n",
            "flatten (Flatten)            (None, 100352)            0         \n",
            "_________________________________________________________________\n",
            "dense (Dense)                (None, 512)               51380736  \n",
            "_________________________________________________________________\n",
            "dense_1 (Dense)              (None, 1024)              525312    \n",
            "_________________________________________________________________\n",
            "dense_2 (Dense)              (None, 1)                 1025      \n",
            "=================================================================\n",
            "Total params: 56,592,449\n",
            "Trainable params: 56,592,449\n",
            "Non-trainable params: 0\n",
            "_________________________________________________________________\n"
          ]
        }
      ]
    },
    {
      "cell_type": "markdown",
      "metadata": {
        "id": "_JAeUqoEJiSm"
      },
      "source": [
        "### Part 2 - Initialising the Checkpoint and training the model"
      ]
    },
    {
      "cell_type": "code",
      "metadata": {
        "id": "Z1-5z4vggr5m"
      },
      "source": [
        "from keras.callbacks import ModelCheckpoint, EarlyStopping"
      ],
      "execution_count": null,
      "outputs": []
    },
    {
      "cell_type": "code",
      "metadata": {
        "id": "UWdJNb1MgwDp"
      },
      "source": [
        "filepath = '/content/best_Model_weights.h5'\n",
        "checkpoint = ModelCheckpoint(filepath, monitor='val_accuracy', verbose=1, save_best_only=True, mode='max')\n",
        "# early = EarlyStopping(monitor='val_accuracy', min_delta=0, patience=20, mode='auto')"
      ],
      "execution_count": null,
      "outputs": []
    },
    {
      "cell_type": "code",
      "metadata": {
        "colab": {
          "base_uri": "https://localhost:8080/"
        },
        "id": "7tImxanHgwLz",
        "outputId": "2b6007a2-eb59-4915-c1ac-8b7ae967bc43"
      },
      "source": [
        "results = model.fit(x=training_set, validation_data= val_set, epochs=15,callbacks=checkpoint)"
      ],
      "execution_count": null,
      "outputs": [
        {
          "output_type": "stream",
          "name": "stdout",
          "text": [
            "Epoch 1/15\n",
            "689/689 [==============================] - 504s 670ms/step - loss: 0.3662 - accuracy: 0.8240 - val_loss: 0.1505 - val_accuracy: 0.9545\n",
            "\n",
            "Epoch 00001: val_accuracy improved from -inf to 0.95452, saving model to /content/best_Model_weights.h5\n",
            "Epoch 2/15\n",
            "689/689 [==============================] - 448s 649ms/step - loss: 0.1442 - accuracy: 0.9540 - val_loss: 0.1515 - val_accuracy: 0.9569\n",
            "\n",
            "Epoch 00002: val_accuracy improved from 0.95452 to 0.95694, saving model to /content/best_Model_weights.h5\n",
            "Epoch 3/15\n",
            "689/689 [==============================] - 448s 649ms/step - loss: 0.1357 - accuracy: 0.9563 - val_loss: 0.1416 - val_accuracy: 0.9565\n",
            "\n",
            "Epoch 00003: val_accuracy did not improve from 0.95694\n",
            "Epoch 4/15\n",
            "689/689 [==============================] - 447s 648ms/step - loss: 0.1288 - accuracy: 0.9589 - val_loss: 0.1600 - val_accuracy: 0.9536\n",
            "\n",
            "Epoch 00004: val_accuracy did not improve from 0.95694\n",
            "Epoch 5/15\n",
            "689/689 [==============================] - 447s 648ms/step - loss: 0.1219 - accuracy: 0.9597 - val_loss: 0.1337 - val_accuracy: 0.9562\n",
            "\n",
            "Epoch 00005: val_accuracy did not improve from 0.95694\n",
            "Epoch 6/15\n",
            "689/689 [==============================] - 446s 647ms/step - loss: 0.1174 - accuracy: 0.9621 - val_loss: 0.1253 - val_accuracy: 0.9598\n",
            "\n",
            "Epoch 00006: val_accuracy improved from 0.95694 to 0.95985, saving model to /content/best_Model_weights.h5\n",
            "Epoch 7/15\n",
            "689/689 [==============================] - 447s 648ms/step - loss: 0.1130 - accuracy: 0.9616 - val_loss: 0.1209 - val_accuracy: 0.9603\n",
            "\n",
            "Epoch 00007: val_accuracy improved from 0.95985 to 0.96033, saving model to /content/best_Model_weights.h5\n",
            "Epoch 8/15\n",
            "689/689 [==============================] - 444s 644ms/step - loss: 0.1100 - accuracy: 0.9634 - val_loss: 0.1189 - val_accuracy: 0.9630\n",
            "\n",
            "Epoch 00008: val_accuracy improved from 0.96033 to 0.96299, saving model to /content/best_Model_weights.h5\n",
            "Epoch 9/15\n",
            "689/689 [==============================] - 442s 642ms/step - loss: 0.1073 - accuracy: 0.9636 - val_loss: 0.1268 - val_accuracy: 0.9615\n",
            "\n",
            "Epoch 00009: val_accuracy did not improve from 0.96299\n",
            "Epoch 10/15\n",
            "689/689 [==============================] - 442s 642ms/step - loss: 0.1037 - accuracy: 0.9648 - val_loss: 0.1242 - val_accuracy: 0.9630\n",
            "\n",
            "Epoch 00010: val_accuracy did not improve from 0.96299\n",
            "Epoch 11/15\n",
            "689/689 [==============================] - 442s 642ms/step - loss: 0.0999 - accuracy: 0.9654 - val_loss: 0.1226 - val_accuracy: 0.9613\n",
            "\n",
            "Epoch 00011: val_accuracy did not improve from 0.96299\n",
            "Epoch 12/15\n",
            "689/689 [==============================] - 443s 643ms/step - loss: 0.0976 - accuracy: 0.9667 - val_loss: 0.1071 - val_accuracy: 0.9640\n",
            "\n",
            "Epoch 00012: val_accuracy improved from 0.96299 to 0.96396, saving model to /content/best_Model_weights.h5\n",
            "Epoch 13/15\n",
            "689/689 [==============================] - 447s 648ms/step - loss: 0.0961 - accuracy: 0.9674 - val_loss: 0.1088 - val_accuracy: 0.9642\n",
            "\n",
            "Epoch 00013: val_accuracy improved from 0.96396 to 0.96420, saving model to /content/best_Model_weights.h5\n",
            "Epoch 14/15\n",
            "689/689 [==============================] - 445s 646ms/step - loss: 0.0925 - accuracy: 0.9684 - val_loss: 0.1087 - val_accuracy: 0.9642\n",
            "\n",
            "Epoch 00014: val_accuracy did not improve from 0.96420\n",
            "Epoch 15/15\n",
            "689/689 [==============================] - 445s 646ms/step - loss: 0.0899 - accuracy: 0.9694 - val_loss: 0.1130 - val_accuracy: 0.9642\n",
            "\n",
            "Epoch 00015: val_accuracy did not improve from 0.96420\n"
          ]
        }
      ]
    },
    {
      "cell_type": "markdown",
      "metadata": {
        "id": "pI-o1XBEam77"
      },
      "source": [
        "## Part 3 - Plotting Graphical Confusion Matrix"
      ]
    },
    {
      "cell_type": "code",
      "metadata": {
        "id": "LXYnc3GAG8nN"
      },
      "source": [
        "import matplotlib.pyplot as plt\n",
        "import itertools"
      ],
      "execution_count": null,
      "outputs": []
    },
    {
      "cell_type": "code",
      "metadata": {
        "id": "q4R7rrSRHEUj"
      },
      "source": [
        "def plot_confusion_matrix(cm, classes, normalize=True, title='Confusion matrix', cmap=plt.cm.Blues):\n",
        "\n",
        "    \"\"\"\n",
        "\n",
        "    This function prints and plots the confusion matrix.\n",
        "\n",
        "    Normalization can be applied by setting `normalize=True`.\n",
        "\n",
        "    \"\"\"\n",
        "\n",
        "    plt.figure(figsize=(10,10))\n",
        "\n",
        "\n",
        "    plt.imshow(cm, interpolation='nearest', cmap=cmap)\n",
        "\n",
        "    plt.title(title)\n",
        "\n",
        "    plt.colorbar()\n",
        "\n",
        "    tick_marks = np.arange(len(classes))\n",
        "\n",
        "    plt.xticks(tick_marks, classes, rotation=45)\n",
        "\n",
        "    plt.yticks(tick_marks, classes)\n",
        "\n",
        "    if normalize:\n",
        "\n",
        "        cm = cm.astype('float') / cm.sum(axis=1)[:, np.newaxis]\n",
        "\n",
        "        cm = np.around(cm, decimals=2)\n",
        "\n",
        "        cm[np.isnan(cm)] = 0.0\n",
        "\n",
        "        print(\"Normalized confusion matrix\")\n",
        "\n",
        "    else:\n",
        "\n",
        "        print('Confusion matrix, without normalization')\n",
        "\n",
        "    thresh = cm.max() / 2.\n",
        "\n",
        "    for i, j in itertools.product(range(cm.shape[0]), range(cm.shape[1])):\n",
        "\n",
        "        plt.text(j, i, cm[i, j],\n",
        "\n",
        "                 horizontalalignment=\"center\",\n",
        "\n",
        "                 color=\"white\" if cm[i, j] > thresh else \"black\")\n",
        "\n",
        "    plt.tight_layout()\n",
        "\n",
        "    plt.ylabel('True label')\n",
        "\n",
        "    plt.xlabel('Predicted label')"
      ],
      "execution_count": null,
      "outputs": []
    },
    {
      "cell_type": "code",
      "metadata": {
        "colab": {
          "base_uri": "https://localhost:8080/",
          "height": 832
        },
        "id": "fFPMHRhnHIAG",
        "outputId": "e3f0622f-edf6-482c-aa80-9496d54b369a"
      },
      "source": [
        "import numpy as np\n",
        "from sklearn.metrics import classification_report, confusion_matrix\n",
        "\n",
        "target_names = []\n",
        "\n",
        "for key in training_set.class_indices:\n",
        "\n",
        "    target_names.append(key)\n",
        "\n",
        "print(target_names)\n",
        "\n",
        "\n",
        "Y_pred = model.predict_generator(test_set)\n",
        "\n",
        "y_pred = np.where(Y_pred>0.5, 1, 0)\n",
        "\n",
        "print('Confusion Matrix')\n",
        "\n",
        "cm = confusion_matrix(test_set.classes, y_pred)\n",
        "\n",
        "plot_confusion_matrix(cm, target_names, title='Confusion Matrix')"
      ],
      "execution_count": null,
      "outputs": [
        {
          "output_type": "stream",
          "name": "stdout",
          "text": [
            "['Parasitized', 'Uninfected']\n"
          ]
        },
        {
          "output_type": "stream",
          "name": "stderr",
          "text": [
            "/usr/local/lib/python3.7/dist-packages/keras/engine/training.py:2035: UserWarning: `Model.predict_generator` is deprecated and will be removed in a future version. Please use `Model.predict`, which supports generators.\n",
            "  warnings.warn('`Model.predict_generator` is deprecated and '\n"
          ]
        },
        {
          "output_type": "stream",
          "name": "stdout",
          "text": [
            "Confusion Matrix\n",
            "Normalized confusion matrix\n"
          ]
        },
        {
          "output_type": "display_data",
          "data": {
            "image/png": "[encoded data removed]",
            "text/plain": [
              "<Figure size 720x720 with 2 Axes>"
            ]
          },
          "metadata": {
            "needs_background": "light"
          }
        }
      ]
    },
    {
      "cell_type": "markdown",
      "metadata": {
        "id": "8mKZ8uvlaDv5"
      },
      "source": [
        "# Part 4-Classification report"
      ]
    },
    {
      "cell_type": "code",
      "metadata": {
        "id": "UUt35VwkaHpK"
      },
      "source": [
        "test_steps_per_epoch = np.math.ceil(test_set.samples / test_set.batch_size)\n",
        "\n",
        "predictions = model.predict(test_set, steps=test_steps_per_epoch)\n",
        "# Get most likely class\n",
        "predicted_classes = np.where(Y_pred>0.5, 1, 0)\n",
        "class_labels = list(test_set.class_indices.keys())"
      ],
      "execution_count": null,
      "outputs": []
    },
    {
      "cell_type": "code",
      "metadata": {
        "colab": {
          "base_uri": "https://localhost:8080/"
        },
        "id": "op-WbVEhYe1M",
        "outputId": "d92817fa-8575-406b-994a-6312e0697b81"
      },
      "source": [
        "report = classification_report(test_set.classes, predicted_classes, target_names=class_labels)\n",
        "print(report)"
      ],
      "execution_count": null,
      "outputs": [
        {
          "output_type": "stream",
          "name": "stdout",
          "text": [
            "              precision    recall  f1-score   support\n",
            "\n",
            " Parasitized       0.97      0.96      0.97       689\n",
            "  Uninfected       0.96      0.97      0.97       689\n",
            "\n",
            "    accuracy                           0.97      1378\n",
            "   macro avg       0.97      0.97      0.97      1378\n",
            "weighted avg       0.97      0.97      0.97      1378\n",
            "\n"
          ]
        }
      ]
    },
    {
      "cell_type": "markdown",
      "metadata": {
        "id": "Yy4xokFFWMnU"
      },
      "source": [
        "# Part 5-Model accuracy and loss graphs"
      ]
    },
    {
      "cell_type": "code",
      "metadata": {
        "colab": {
          "base_uri": "https://localhost:8080/",
          "height": 295
        },
        "id": "zjKSGk2lZlIR",
        "outputId": "7ce20b9d-4065-4527-fba9-a86a76eeac6e"
      },
      "source": [
        "import matplotlib.pyplot as plt\n",
        "plt.plot(results.history[\"accuracy\"])\n",
        "plt.plot(results.history['val_accuracy'])\n",
        "plt.plot(results.history['loss'])\n",
        "plt.plot(results.history['val_loss'])\n",
        "plt.title(\"model accuracy\")\n",
        "plt.ylabel(\"Accuracy\")\n",
        "plt.xlabel(\"Epoch\")\n",
        "plt.legend([\"Accuracy\",\"Validation Accuracy\",\"loss\",\"Validation Loss\"])\n",
        "plt.show()"
      ],
      "execution_count": null,
      "outputs": [
        {
          "output_type": "display_data",
          "data": {
            "image/png": "[encoded data removed]",
            "text/plain": [
              "<Figure size 432x288 with 1 Axes>"
            ]
          },
          "metadata": {
            "needs_background": "light"
          }
        }
      ]
    },
    {
      "cell_type": "markdown",
      "metadata": {
        "id": "FbuKtoenmKKr"
      },
      "source": [
        "# Part 6 - Saving and Loading the model for prediction"
      ]
    },
    {
      "cell_type": "code",
      "metadata": {
        "id": "aNnXmRj-kB38"
      },
      "source": [
        "from keras.models import model_from_json\n",
        "from keras.models import load_model"
      ],
      "execution_count": null,
      "outputs": []
    },
    {
      "cell_type": "code",
      "metadata": {
        "id": "lwCa76NBgcM-"
      },
      "source": [
        "# serialize model to JSON\n",
        "model_json = model.to_json()\n",
        "with open(\"/content/best_Model_weights.json\", \"w\") as json_file:\n",
        "    json_file.write(model_json)"
      ],
      "execution_count": null,
      "outputs": []
    },
    {
      "cell_type": "code",
      "metadata": {
        "id": "zACrAM0hiHC8"
      },
      "source": [
        "# load json and create model\n",
        "json_file = open('/content/best_Model_weights.json', 'r')\n",
        "loaded_model_json = json_file.read()\n",
        "json_file.close()\n",
        "loaded_model = model_from_json(loaded_model_json)\n",
        "\n",
        "# load weights into new model\n",
        "loaded_model.load_weights('best_Model_weights.h5')"
      ],
      "execution_count": null,
      "outputs": []
    },
    {
      "cell_type": "code",
      "metadata": {
        "colab": {
          "base_uri": "https://localhost:8080/"
        },
        "id": "66O2NapO_4T-",
        "outputId": "1a1abe5e-6bed-4a36-b16e-dda9448f80ce"
      },
      "source": [
        "# evaluate loaded model on test data\n",
        "loaded_model.compile(loss='binary_crossentropy', optimizer='adam', metrics=['accuracy'])\n",
        "score = loaded_model.evaluate(test_set, verbose=0)\n",
        "print (\"%s: %.2f%%\" % (loaded_model.metrics_names[1], score[1]*100))"
      ],
      "execution_count": null,
      "outputs": [
        {
          "output_type": "stream",
          "name": "stdout",
          "text": [
            "accuracy: 96.73%\n"
          ]
        }
      ]
    },
    {
      "cell_type": "markdown",
      "metadata": {
        "id": "zIjpcW4IlcSe"
      },
      "source": [
        "###### As we can see, the accuracy of our model on test data is 96.73%. We are going to use transfer learning and train 2 pre-trained models on this dataset and see the results to compare them."
      ]
    },
    {
      "cell_type": "code",
      "metadata": {
        "id": "4X--CityAMlc"
      },
      "source": [
        "# from keras.models import model_from_json\n",
        "# from keras.models import load_model\n",
        "\n",
        "# # serialize model to JSON\n",
        "# model_json = model.to_json()\n",
        "# with open(\"best_Model_weights.json\", \"w\") as json_file:\n",
        "#     json_file.write(model_json)\n",
        "\n",
        "# # serialize weights to HDF5\n",
        "# model.save_weights(\"best_Model_weights.h5\")"
      ],
      "execution_count": null,
      "outputs": []
    },
    {
      "cell_type": "code",
      "metadata": {
        "id": "mdyjsFlOHYO3"
      },
      "source": [
        "# # load json and create model\n",
        "# json_file = open('best_Model_weights.json', 'r')\n",
        "# loaded_model_json = json_file.read()\n",
        "# json_file.close()\n",
        "# loaded_model = model_from_json(loaded_model_json)\n",
        "\n",
        "# # load weights into new model\n",
        "# loaded_model.load_weights(\"best_Model_weights.h5\")\n",
        "# print(\"Loaded model from disk\")\n",
        "\n",
        "# loaded_model.save('best_Model_weights.hdf5')\n",
        "# loaded_model=load_model('best_Model_weights.hdf5')"
      ],
      "execution_count": null,
      "outputs": []
    },
    {
      "cell_type": "markdown",
      "metadata": {
        "id": "oEDcky_Xpg0y"
      },
      "source": [
        "# Part 7 - Deploying the model to Predict a single sample."
      ]
    },
    {
      "cell_type": "code",
      "metadata": {
        "id": "0FZHR1-VdWLu"
      },
      "source": [
        "from tensorflow.keras.applications.resnet50 import preprocess_input, decode_predictions\n",
        "from tensorflow.keras.preprocessing import image\n",
        "\n",
        "def classify(img_path):\n",
        "    img = image.load_img(img_path, target_size=(224, 224))\n",
        "    img_array = image.img_to_array(img)\n",
        "\n",
        "    img_batch = np.expand_dims(img_array, axis=0)\n",
        "\n",
        "    img_preprocessed = preprocess_input(img_batch)\n",
        "\n",
        "    prediction = model.predict(img_preprocessed)\n",
        "\n",
        "    print(decode_predictions(prediction, top=3)[0])\n",
        "\n",
        "classify(\"./samples/112_malaria.jpg\")"
      ],
      "execution_count": null,
      "outputs": []
    },
    {
      "cell_type": "markdown",
      "metadata": {
        "id": "h6PheSuLch1z"
      },
      "source": [
        "#Section 2.1 - Using pre-trained models to train and evaluate."
      ]
    },
    {
      "cell_type": "markdown",
      "metadata": {
        "id": "-5PjJyJ3Hydc"
      },
      "source": [
        "# Part 1- EfficientNetB2: Initialising the model"
      ]
    },
    {
      "cell_type": "code",
      "metadata": {
        "id": "duaH61wWqYSq"
      },
      "source": [
        "from tensorflow.keras.models import Sequential\n",
        "from tensorflow.keras.layers import Dense, Dropout, Activation, Flatten, Conv2D, MaxPooling2D\n",
        "from tensorflow.keras import optimizers\n",
        "from tensorflow.keras import applications\n",
        "from keras.models import model_from_json"
      ],
      "execution_count": null,
      "outputs": []
    },
    {
      "cell_type": "code",
      "metadata": {
        "id": "fKJOb5ih_3H1",
        "colab": {
          "base_uri": "https://localhost:8080/"
        },
        "outputId": "fb4be293-aa04-4d1e-8c93-c2064bc8a1c0"
      },
      "source": [
        "pre_trained_model=tf.keras.models.Sequential([\n",
        "                                              \n",
        "  tf.keras.layers.InputLayer((224,224,3)),\n",
        "  tf.keras.applications.EfficientNetB2(include_top=False,weights= 'imagenet', input_shape=(224,224,3)),\n",
        "  \n",
        "  tf.keras.layers.GlobalAveragePooling2D(),\n",
        "  \n",
        "  tf.keras.layers.Dense(512,activation='relu'),\n",
        "  #tf.keras.layers.Dropout(0.2),\n",
        "  \n",
        "  tf.keras.layers.Dense(1024,activation='relu'),\n",
        "  # tf.keras.layers.Dropout(0.2),\n",
        "  \n",
        "  tf.keras.layers.Dense(1, activation='sigmoid'),\n",
        "])"
      ],
      "execution_count": null,
      "outputs": [
        {
          "output_type": "stream",
          "name": "stdout",
          "text": [
            "Downloading data from https://storage.googleapis.com/keras-applications/efficientnetb2_notop.h5\n",
            "31793152/31790344 [==============================] - 0s 0us/step\n",
            "31801344/31790344 [==============================] - 0s 0us/step\n"
          ]
        }
      ]
    },
    {
      "cell_type": "code",
      "metadata": {
        "colab": {
          "base_uri": "https://localhost:8080/"
        },
        "id": "YLsO_3C_HBRH",
        "outputId": "5a52f8bd-887b-47ff-a810-b3e19dd99ac9"
      },
      "source": [
        "pre_trained_model.summary()"
      ],
      "execution_count": null,
      "outputs": [
        {
          "output_type": "stream",
          "name": "stdout",
          "text": [
            "Model: \"sequential\"\n",
            "_________________________________________________________________\n",
            "Layer (type)                 Output Shape              Param #   \n",
            "=================================================================\n",
            "efficientnetb2 (Functional)  (None, 7, 7, 1408)        7768569   \n",
            "_________________________________________________________________\n",
            "global_average_pooling2d (Gl (None, 1408)              0         \n",
            "_________________________________________________________________\n",
            "dense (Dense)                (None, 512)               721408    \n",
            "_________________________________________________________________\n",
            "dense_1 (Dense)              (None, 1024)              525312    \n",
            "_________________________________________________________________\n",
            "dense_2 (Dense)              (None, 1)                 1025      \n",
            "=================================================================\n",
            "Total params: 9,016,314\n",
            "Trainable params: 8,948,739\n",
            "Non-trainable params: 67,575\n",
            "_________________________________________________________________\n"
          ]
        }
      ]
    },
    {
      "cell_type": "markdown",
      "metadata": {
        "id": "j0v3-k8kLBVB"
      },
      "source": [
        "# Part 2- Compiling and trainig the model"
      ]
    },
    {
      "cell_type": "code",
      "metadata": {
        "id": "pTO_t5liGNoc"
      },
      "source": [
        "pre_trained_model.compile(optimizer =tf.keras.optimizers.Adam(0.0001), loss = 'binary_crossentropy', metrics = ['accuracy'])"
      ],
      "execution_count": null,
      "outputs": []
    },
    {
      "cell_type": "code",
      "metadata": {
        "id": "M81UrDXsHWZ6"
      },
      "source": [
        "from keras.callbacks import ModelCheckpoint, EarlyStopping"
      ],
      "execution_count": null,
      "outputs": []
    },
    {
      "cell_type": "code",
      "metadata": {
        "id": "HQ60QfSbHWdQ"
      },
      "source": [
        "filepath = '/content/best_Model_weights.h5'\n",
        "checkpoint_pre = ModelCheckpoint(filepath, monitor='val_accuracy', verbose=1, save_best_only=True, mode='max')\n",
        "# early = EarlyStopping(monitor='val_accuracy', min_delta=0, patience=20, mode='auto')"
      ],
      "execution_count": null,
      "outputs": []
    },
    {
      "cell_type": "code",
      "metadata": {
        "id": "HuNs43q6GNtS",
        "colab": {
          "base_uri": "https://localhost:8080/"
        },
        "outputId": "e3762d6a-c3b0-48cb-9859-fbd72e19b844"
      },
      "source": [
        "results_pre = pre_trained_model.fit(x = training_set, validation_data = val_set, epochs = 15, callbacks=checkpoint_pre)"
      ],
      "execution_count": null,
      "outputs": [
        {
          "output_type": "stream",
          "name": "stdout",
          "text": [
            "Epoch 1/15\n",
            "689/689 [==============================] - 652s 884ms/step - loss: 0.1399 - accuracy: 0.9530 - val_loss: 1.0316 - val_accuracy: 0.5501\n",
            "\n",
            "Epoch 00001: val_accuracy improved from -inf to 0.55007, saving model to /content/best_Model_weights.h5\n"
          ]
        },
        {
          "output_type": "stream",
          "name": "stderr",
          "text": [
            "/usr/local/lib/python3.7/dist-packages/keras/utils/generic_utils.py:497: CustomMaskWarning: Custom mask layers require a config and must override get_config. When loading, the custom mask layer must be passed to the custom_objects argument.\n",
            "  category=CustomMaskWarning)\n"
          ]
        },
        {
          "output_type": "stream",
          "name": "stdout",
          "text": [
            "Epoch 2/15\n",
            "689/689 [==============================] - 607s 881ms/step - loss: 0.0952 - accuracy: 0.9680 - val_loss: 0.1304 - val_accuracy: 0.9548\n",
            "\n",
            "Epoch 00002: val_accuracy improved from 0.55007 to 0.95477, saving model to /content/best_Model_weights.h5\n",
            "Epoch 3/15\n",
            "689/689 [==============================] - 606s 879ms/step - loss: 0.0817 - accuracy: 0.9715 - val_loss: 0.1356 - val_accuracy: 0.9538\n",
            "\n",
            "Epoch 00003: val_accuracy did not improve from 0.95477\n",
            "Epoch 4/15\n",
            "689/689 [==============================] - 607s 881ms/step - loss: 0.0715 - accuracy: 0.9747 - val_loss: 0.1166 - val_accuracy: 0.9589\n",
            "\n",
            "Epoch 00004: val_accuracy improved from 0.95477 to 0.95888, saving model to /content/best_Model_weights.h5\n",
            "Epoch 5/15\n",
            "689/689 [==============================] - 610s 885ms/step - loss: 0.0660 - accuracy: 0.9770 - val_loss: 0.1220 - val_accuracy: 0.9572\n",
            "\n",
            "Epoch 00005: val_accuracy did not improve from 0.95888\n",
            "Epoch 6/15\n",
            "689/689 [==============================] - 611s 887ms/step - loss: 0.0593 - accuracy: 0.9793 - val_loss: 0.1252 - val_accuracy: 0.9591\n",
            "\n",
            "Epoch 00006: val_accuracy improved from 0.95888 to 0.95912, saving model to /content/best_Model_weights.h5\n",
            "Epoch 7/15\n",
            "689/689 [==============================] - 607s 880ms/step - loss: 0.0511 - accuracy: 0.9825 - val_loss: 0.2221 - val_accuracy: 0.9315\n",
            "\n",
            "Epoch 00007: val_accuracy did not improve from 0.95912\n",
            "Epoch 8/15\n",
            "689/689 [==============================] - 607s 881ms/step - loss: 0.0471 - accuracy: 0.9824 - val_loss: 0.6547 - val_accuracy: 0.8123\n",
            "\n",
            "Epoch 00008: val_accuracy did not improve from 0.95912\n",
            "Epoch 9/15\n",
            "689/689 [==============================] - 606s 879ms/step - loss: 0.0444 - accuracy: 0.9844 - val_loss: 0.7182 - val_accuracy: 0.7581\n",
            "\n",
            "Epoch 00009: val_accuracy did not improve from 0.95912\n",
            "Epoch 10/15\n",
            "689/689 [==============================] - 606s 879ms/step - loss: 0.0393 - accuracy: 0.9857 - val_loss: 0.1339 - val_accuracy: 0.9618\n",
            "\n",
            "Epoch 00010: val_accuracy improved from 0.95912 to 0.96178, saving model to /content/best_Model_weights.h5\n",
            "Epoch 11/15\n",
            "689/689 [==============================] - 606s 879ms/step - loss: 0.0377 - accuracy: 0.9873 - val_loss: 0.2116 - val_accuracy: 0.9328\n",
            "\n",
            "Epoch 00011: val_accuracy did not improve from 0.96178\n",
            "Epoch 12/15\n",
            "689/689 [==============================] - 606s 879ms/step - loss: 0.0348 - accuracy: 0.9877 - val_loss: 0.3833 - val_accuracy: 0.8302\n",
            "\n",
            "Epoch 00012: val_accuracy did not improve from 0.96178\n",
            "Epoch 13/15\n",
            "689/689 [==============================] - 606s 878ms/step - loss: 0.0309 - accuracy: 0.9890 - val_loss: 0.2524 - val_accuracy: 0.9303\n",
            "\n",
            "Epoch 00013: val_accuracy did not improve from 0.96178\n",
            "Epoch 14/15\n",
            "689/689 [==============================] - 607s 880ms/step - loss: 0.0279 - accuracy: 0.9901 - val_loss: 0.1841 - val_accuracy: 0.9468\n",
            "\n",
            "Epoch 00014: val_accuracy did not improve from 0.96178\n",
            "Epoch 15/15\n",
            "689/689 [==============================] - 607s 880ms/step - loss: 0.0268 - accuracy: 0.9900 - val_loss: 0.1609 - val_accuracy: 0.9492\n",
            "\n",
            "Epoch 00015: val_accuracy did not improve from 0.96178\n"
          ]
        }
      ]
    },
    {
      "cell_type": "markdown",
      "metadata": {
        "id": "byW18vo96KO6"
      },
      "source": [
        "## Part 3 - Plotting Graphical Confusion Matrix"
      ]
    },
    {
      "cell_type": "code",
      "metadata": {
        "id": "nVfxST3Btj2X",
        "colab": {
          "base_uri": "https://localhost:8080/",
          "height": 837
        },
        "outputId": "5df25fb0-f346-43da-829f-bb39535badb4"
      },
      "source": [
        "import numpy as np\n",
        "from sklearn.metrics import classification_report, confusion_matrix\n",
        "\n",
        "target_names_pre = []\n",
        "\n",
        "for key in training_set.class_indices:\n",
        "\n",
        "    target_names_pre.append(key)\n",
        "\n",
        "\n",
        "print(target_names_pre)\n",
        "\n",
        "\n",
        "Y_pred_pre = pre_trained_model.predict_generator(test_set)\n",
        "\n",
        "y_pred_pre = np.where(Y_pred_pre>0.5, 1, 0)\n",
        "\n",
        "print('Confusion Matrix')\n",
        "\n",
        "cm_pre = confusion_matrix(test_set.classes, y_pred_pre)\n",
        "plot_confusion_matrix(cm_pre, target_names_pre, title='Confusion Matrix')"
      ],
      "execution_count": null,
      "outputs": [
        {
          "output_type": "stream",
          "name": "stdout",
          "text": [
            "['Parasitized', 'Uninfected']\n"
          ]
        },
        {
          "output_type": "stream",
          "name": "stderr",
          "text": [
            "/usr/local/lib/python3.7/dist-packages/keras/engine/training.py:2035: UserWarning: `Model.predict_generator` is deprecated and will be removed in a future version. Please use `Model.predict`, which supports generators.\n",
            "  warnings.warn('`Model.predict_generator` is deprecated and '\n"
          ]
        },
        {
          "output_type": "stream",
          "name": "stdout",
          "text": [
            "Confusion Matrix\n",
            "Normalized confusion matrix\n"
          ]
        },
        {
          "output_type": "display_data",
          "data": {
            "image/png": "[encoded data removed]",
            "text/plain": [
              "<Figure size 720x720 with 2 Axes>"
            ]
          },
          "metadata": {
            "needs_background": "light"
          }
        }
      ]
    },
    {
      "cell_type": "markdown",
      "metadata": {
        "id": "Ovd7qXXBrrbf"
      },
      "source": [
        "# Part 4-Classification report"
      ]
    },
    {
      "cell_type": "code",
      "metadata": {
        "id": "q8_TffVylojn",
        "colab": {
          "base_uri": "https://localhost:8080/"
        },
        "outputId": "b351000f-801d-4c43-801f-47a23672b174"
      },
      "source": [
        "report = classification_report(test_set.classes, y_pred_pre, target_names=target_names_pre)\n",
        "print(report)"
      ],
      "execution_count": null,
      "outputs": [
        {
          "output_type": "stream",
          "name": "stdout",
          "text": [
            "              precision    recall  f1-score   support\n",
            "\n",
            " Parasitized       0.98      0.94      0.96       689\n",
            "  Uninfected       0.94      0.98      0.96       689\n",
            "\n",
            "    accuracy                           0.96      1378\n",
            "   macro avg       0.96      0.96      0.96      1378\n",
            "weighted avg       0.96      0.96      0.96      1378\n",
            "\n"
          ]
        }
      ]
    },
    {
      "cell_type": "code",
      "metadata": {
        "id": "Oq2Ei-w6gVYT",
        "colab": {
          "base_uri": "https://localhost:8080/"
        },
        "outputId": "642f26dd-bf6c-4681-d2e0-27f48499f6af"
      },
      "source": [
        "from sklearn.metrics import accuracy_score\n",
        "accuracy_score(test_set.classes, y_pred_pre)"
      ],
      "execution_count": null,
      "outputs": [
        {
          "output_type": "execute_result",
          "data": {
            "text/plain": [
              "0.9600870827285921"
            ]
          },
          "metadata": {},
          "execution_count": 29
        }
      ]
    },
    {
      "cell_type": "markdown",
      "metadata": {
        "id": "9i5QxEQgmg2X"
      },
      "source": [
        "##### The accuracy of the efficient on the dataset is 96.00% which is 0.73% less than our model accuracy."
      ]
    },
    {
      "cell_type": "markdown",
      "metadata": {
        "id": "TKkJGofwr2A3"
      },
      "source": [
        "# Part 5-Model accuracy and loss graphs"
      ]
    },
    {
      "cell_type": "code",
      "metadata": {
        "id": "EyMZvEHyr3YX",
        "colab": {
          "base_uri": "https://localhost:8080/",
          "height": 573
        },
        "outputId": "4aa44787-f1c4-42d8-b665-cc140a63e78e"
      },
      "source": [
        "import matplotlib.pyplot as plt\n",
        "#Graphing our training and validation\n",
        "\n",
        "\n",
        "acc = results_pre.history['accuracy']\n",
        "val_acc = results_pre.history['val_accuracy']\n",
        "loss = results_pre.history['loss']\n",
        "val_loss = results_pre.history['val_loss']\n",
        "epochs = range(len(acc))\n",
        "\n",
        "\n",
        "plt.plot(epochs, acc, 'r', label= 'Training acc')\n",
        "plt.plot(epochs, val_acc, 'b', label= 'Validation acc')\n",
        "plt.title('Training and validation accuracy')\n",
        "plt.ylabel('accuracy') \n",
        "plt.xlabel('epoch')\n",
        "plt.legend()\n",
        "plt.figure()\n",
        "\n",
        "\n",
        "plt.plot(epochs, loss, 'r', label='Training loss')\n",
        "plt.plot(epochs, val_loss, 'b', label='Validation loss')\n",
        "plt.title('Training and validation loss')\n",
        "plt.ylabel('loss') \n",
        "plt.xlabel('epoch')\n",
        "plt.legend()\n",
        "plt.show()\n",
        "\n"
      ],
      "execution_count": null,
      "outputs": [
        {
          "output_type": "display_data",
          "data": {
            "image/png": "[encoded data removed]",
            "text/plain": [
              "<Figure size 432x288 with 1 Axes>"
            ]
          },
          "metadata": {
            "needs_background": "light"
          }
        },
        {
          "output_type": "display_data",
          "data": {
            "image/png": "[encoded data removed]",
            "text/plain": [
              "<Figure size 432x288 with 1 Axes>"
            ]
          },
          "metadata": {
            "needs_background": "light"
          }
        }
      ]
    },
    {
      "cell_type": "markdown",
      "metadata": {
        "id": "gN2Nhe3xwXf-"
      },
      "source": [
        "# Part 6 - Saving and Loading the model for prediction"
      ]
    },
    {
      "cell_type": "code",
      "metadata": {
        "id": "jnbkL7dnr3a8",
        "colab": {
          "base_uri": "https://localhost:8080/"
        },
        "outputId": "c5af6cba-6f63-4e09-93c1-4dda78eeef5a"
      },
      "source": [
        "# serialize model to JSON\n",
        "model_json = pre_trained_model.to_json()\n",
        "with open(\"/content/best_Model_weights.json\", \"w\") as json_file:\n",
        "    json_file.write(model_json)"
      ],
      "execution_count": null,
      "outputs": [
        {
          "output_type": "stream",
          "name": "stderr",
          "text": [
            "/usr/local/lib/python3.7/dist-packages/keras/utils/generic_utils.py:497: CustomMaskWarning: Custom mask layers require a config and must override get_config. When loading, the custom mask layer must be passed to the custom_objects argument.\n",
            "  category=CustomMaskWarning)\n"
          ]
        }
      ]
    },
    {
      "cell_type": "code",
      "metadata": {
        "id": "V_Gcu8yIr3db"
      },
      "source": [
        "# load json and create model\n",
        "json_file = open('/content/best_Model_weights.json', 'r')\n",
        "loaded_model_json = json_file.read()\n",
        "json_file.close()\n",
        "loaded_model = model_from_json(loaded_model_json)\n",
        "\n",
        "# load weights into new model\n",
        "loaded_model.load_weights('best_Model_weights.h5')"
      ],
      "execution_count": null,
      "outputs": []
    },
    {
      "cell_type": "markdown",
      "metadata": {
        "id": "5b4s2Z4QwZnd"
      },
      "source": [
        "# Part 7 - Deploying the model to Predict a single sample."
      ]
    },
    {
      "cell_type": "code",
      "metadata": {
        "id": "6UzGd1ySsOsY"
      },
      "source": [
        "def read_image(file_path):\n",
        "\n",
        "   print(“[INFO] loading and preprocessing image…”) \n",
        "   image = load_img(file_path, target_size=(224, 224)) \n",
        "   image = img_to_array(image)\n",
        "\n",
        "   image = np.expand_dims(image, axis=0)\n",
        "   image /= 255. \n",
        "   return image\n",
        "\n",
        "\n",
        "def test_single_image(path):\n",
        "\n",
        "  Outputs = ['Parasitized', 'Uninfected']\n",
        "  images = read_image(path)\n",
        "  time.sleep(.5)\n",
        "\n",
        "\n",
        "  bt_prediction = pre_trained_model.predict(images) \n",
        "  preds = model.predict_proba(bt_prediction)\n",
        "\n",
        "  for idx, y, x in zip(range(0,6), Outputs , preds[0]):\n",
        "   print(“ID: {}, Label: {} {}%”.format(idx, y, round(x*100,2) ))\n",
        "   \n",
        "  print(‘Final Decision:’)\n",
        "  time.sleep(.5)\n",
        "\n",
        "\n",
        "  for x in range(3):\n",
        "   print(‘.’*(x+1))\n",
        "   time.sleep(.2)\n",
        "\n",
        "  class_predicted = pre_trained_model.predict_classes(bt_prediction)\n",
        "  class_dictionary = generator_top.class_indices \n",
        "\n",
        "  inv_map = {v: k for k, v in class_dictionary.items()} \n",
        "  print(“ID: {}, Label: {}”.format(class_predicted[0],  inv_map[class_predicted[0]])) \n",
        "  return load_img(path)\n",
        "\n",
        "path = ‘data/test/yourpicturename’\n",
        "test_single_image(path)"
      ],
      "execution_count": null,
      "outputs": []
    },
    {
      "cell_type": "markdown",
      "metadata": {
        "id": "8bZCdIFicLTC"
      },
      "source": [
        "# Section 2.2   VGG16"
      ]
    },
    {
      "cell_type": "markdown",
      "metadata": {
        "id": "k-zntSaMcHT4"
      },
      "source": [
        "## Part 1- VGG16: Initialising the model"
      ]
    },
    {
      "cell_type": "code",
      "metadata": {
        "id": "HU4Bk-5GcHT6"
      },
      "source": [
        "pre_trained_model_Vgg =tf.keras.models.Sequential([\n",
        "  tf.keras.layers.InputLayer((224,224,3)),\n",
        "  tf.keras.applications.VGG16(include_top=False,weights= 'imagenet', input_shape=(224,224,3)),\n",
        "  tf.keras.layers.GlobalAveragePooling2D(),\n",
        "  tf.keras.layers.Dense(512,activation='relu'),\n",
        "  #tf.keras.layers.Dropout(0.2),\n",
        "  tf.keras.layers.Dense(1024,activation='relu'),\n",
        "  # tf.keras.layers.Dropout(0.2),\n",
        "  tf.keras.layers.Dense(1, activation='sigmoid'),\n",
        "])"
      ],
      "execution_count": null,
      "outputs": []
    },
    {
      "cell_type": "code",
      "metadata": {
        "colab": {
          "base_uri": "https://localhost:8080/"
        },
        "id": "28Rvi0AacHT7",
        "outputId": "4b9b9f99-7d31-47ab-c96e-1c0c730417e5"
      },
      "source": [
        "pre_trained_model_Vgg.summary()"
      ],
      "execution_count": null,
      "outputs": [
        {
          "output_type": "stream",
          "name": "stdout",
          "text": [
            "Model: \"sequential_1\"\n",
            "_________________________________________________________________\n",
            "Layer (type)                 Output Shape              Param #   \n",
            "=================================================================\n",
            "vgg16 (Functional)           (None, 7, 7, 512)         14714688  \n",
            "_________________________________________________________________\n",
            "global_average_pooling2d_1 ( (None, 512)               0         \n",
            "_________________________________________________________________\n",
            "dense_3 (Dense)              (None, 512)               262656    \n",
            "_________________________________________________________________\n",
            "dense_4 (Dense)              (None, 1024)              525312    \n",
            "_________________________________________________________________\n",
            "dense_5 (Dense)              (None, 1)                 1025      \n",
            "=================================================================\n",
            "Total params: 15,503,681\n",
            "Trainable params: 15,503,681\n",
            "Non-trainable params: 0\n",
            "_________________________________________________________________\n"
          ]
        }
      ]
    },
    {
      "cell_type": "code",
      "metadata": {
        "id": "V-mswUJTdYNU"
      },
      "source": [
        ""
      ],
      "execution_count": null,
      "outputs": []
    },
    {
      "cell_type": "markdown",
      "metadata": {
        "id": "Q0_4chLldYfe"
      },
      "source": [
        "# Part 2- Compiling and trainig the model"
      ]
    },
    {
      "cell_type": "code",
      "metadata": {
        "id": "pQoszah_dYff"
      },
      "source": [
        "pre_trained_model_Vgg.compile(optimizer =tf.keras.optimizers.Adam(0.0001), loss = 'binary_crossentropy', metrics = ['accuracy'])"
      ],
      "execution_count": null,
      "outputs": []
    },
    {
      "cell_type": "code",
      "metadata": {
        "id": "KYqQ-ne4dYff"
      },
      "source": [
        "from keras.callbacks import ModelCheckpoint, EarlyStopping"
      ],
      "execution_count": null,
      "outputs": []
    },
    {
      "cell_type": "code",
      "metadata": {
        "id": "_XN0JQoWdYfg"
      },
      "source": [
        "filepath = '/content/best_Model_weights.h5'\n",
        "checkpoint_pre_vgg = ModelCheckpoint(filepath, monitor='val_accuracy', verbose=1, save_best_only=True, mode='max')\n",
        "# early = EarlyStopping(monitor='val_accuracy', min_delta=0, patience=20, mode='auto')"
      ],
      "execution_count": null,
      "outputs": []
    },
    {
      "cell_type": "code",
      "metadata": {
        "colab": {
          "base_uri": "https://localhost:8080/"
        },
        "id": "JEbWa4fvdYfg",
        "outputId": "d03038c0-3c6e-4ccd-e230-f10bf50af787"
      },
      "source": [
        "results_pre_vgg = pre_trained_model_Vgg.fit(x = training_set, validation_data = val_set, epochs = 15, callbacks=checkpoint_pre_vgg)"
      ],
      "execution_count": null,
      "outputs": [
        {
          "output_type": "stream",
          "name": "stdout",
          "text": [
            "Epoch 1/15\n",
            "689/689 [==============================] - 663s 893ms/step - loss: 0.1607 - accuracy: 0.9502 - val_loss: 0.1337 - val_accuracy: 0.9528\n",
            "\n",
            "Epoch 00001: val_accuracy improved from -inf to 0.95283, saving model to /content/best_Model_weights.h5\n",
            "Epoch 2/15\n",
            "689/689 [==============================] - 596s 865ms/step - loss: 0.1291 - accuracy: 0.9597 - val_loss: 0.1152 - val_accuracy: 0.9606\n",
            "\n",
            "Epoch 00002: val_accuracy improved from 0.95283 to 0.96057, saving model to /content/best_Model_weights.h5\n",
            "Epoch 3/15\n",
            "689/689 [==============================] - 595s 863ms/step - loss: 0.1212 - accuracy: 0.9631 - val_loss: 0.1189 - val_accuracy: 0.9589\n",
            "\n",
            "Epoch 00003: val_accuracy did not improve from 0.96057\n",
            "Epoch 4/15\n",
            "689/689 [==============================] - 595s 863ms/step - loss: 0.1128 - accuracy: 0.9634 - val_loss: 0.1057 - val_accuracy: 0.9625\n",
            "\n",
            "Epoch 00004: val_accuracy improved from 0.96057 to 0.96251, saving model to /content/best_Model_weights.h5\n",
            "Epoch 5/15\n",
            "689/689 [==============================] - 594s 862ms/step - loss: 0.1078 - accuracy: 0.9640 - val_loss: 0.1022 - val_accuracy: 0.9640\n",
            "\n",
            "Epoch 00005: val_accuracy improved from 0.96251 to 0.96396, saving model to /content/best_Model_weights.h5\n",
            "Epoch 6/15\n",
            "689/689 [==============================] - 593s 860ms/step - loss: 0.1072 - accuracy: 0.9647 - val_loss: 0.0946 - val_accuracy: 0.9664\n",
            "\n",
            "Epoch 00006: val_accuracy improved from 0.96396 to 0.96638, saving model to /content/best_Model_weights.h5\n",
            "Epoch 7/15\n",
            "689/689 [==============================] - 593s 860ms/step - loss: 0.1012 - accuracy: 0.9659 - val_loss: 0.0964 - val_accuracy: 0.9664\n",
            "\n",
            "Epoch 00007: val_accuracy did not improve from 0.96638\n",
            "Epoch 8/15\n",
            "689/689 [==============================] - 592s 858ms/step - loss: 0.1007 - accuracy: 0.9666 - val_loss: 0.0926 - val_accuracy: 0.9652\n",
            "\n",
            "Epoch 00008: val_accuracy did not improve from 0.96638\n",
            "Epoch 9/15\n",
            "689/689 [==============================] - 591s 858ms/step - loss: 0.0977 - accuracy: 0.9670 - val_loss: 0.0891 - val_accuracy: 0.9671\n",
            "\n",
            "Epoch 00009: val_accuracy improved from 0.96638 to 0.96710, saving model to /content/best_Model_weights.h5\n",
            "Epoch 10/15\n",
            "689/689 [==============================] - 591s 858ms/step - loss: 0.0938 - accuracy: 0.9682 - val_loss: 0.1401 - val_accuracy: 0.9579\n",
            "\n",
            "Epoch 00010: val_accuracy did not improve from 0.96710\n",
            "Epoch 11/15\n",
            "689/689 [==============================] - 591s 857ms/step - loss: 0.0878 - accuracy: 0.9712 - val_loss: 0.0846 - val_accuracy: 0.9683\n",
            "\n",
            "Epoch 00011: val_accuracy improved from 0.96710 to 0.96831, saving model to /content/best_Model_weights.h5\n",
            "Epoch 12/15\n",
            "689/689 [==============================] - 591s 857ms/step - loss: 0.0874 - accuracy: 0.9703 - val_loss: 0.0829 - val_accuracy: 0.9686\n",
            "\n",
            "Epoch 00012: val_accuracy improved from 0.96831 to 0.96855, saving model to /content/best_Model_weights.h5\n",
            "Epoch 13/15\n",
            "689/689 [==============================] - 591s 857ms/step - loss: 0.0859 - accuracy: 0.9710 - val_loss: 0.1027 - val_accuracy: 0.9657\n",
            "\n",
            "Epoch 00013: val_accuracy did not improve from 0.96855\n",
            "Epoch 14/15\n",
            "689/689 [==============================] - 590s 857ms/step - loss: 0.0839 - accuracy: 0.9712 - val_loss: 0.1140 - val_accuracy: 0.9618\n",
            "\n",
            "Epoch 00014: val_accuracy did not improve from 0.96855\n",
            "Epoch 15/15\n",
            "689/689 [==============================] - 590s 856ms/step - loss: 0.0815 - accuracy: 0.9721 - val_loss: 0.0925 - val_accuracy: 0.9627\n",
            "\n",
            "Epoch 00015: val_accuracy did not improve from 0.96855\n"
          ]
        }
      ]
    },
    {
      "cell_type": "markdown",
      "metadata": {
        "id": "oFD5p7dMdYfh"
      },
      "source": [
        "## Part 3 - Plotting Graphical Confusion Matrix"
      ]
    },
    {
      "cell_type": "code",
      "metadata": {
        "colab": {
          "base_uri": "https://localhost:8080/",
          "height": 830
        },
        "id": "LhLeHB6bdYfh",
        "outputId": "cc4a6e4d-6a7b-4112-c6a3-3a89cabcef21"
      },
      "source": [
        "import numpy as np\n",
        "from sklearn.metrics import classification_report, confusion_matrix\n",
        "\n",
        "target_names_pre_vgg = []\n",
        "\n",
        "for key in training_set.class_indices:\n",
        "\n",
        "    target_names_pre_vgg.append(key)\n",
        "\n",
        "\n",
        "print(target_names_pre_vgg)\n",
        "\n",
        "\n",
        "Y_pred_pre_vgg = pre_trained_model_Vgg.predict_generator(test_set)\n",
        "\n",
        "y_pred_pre_vgg = np.where(Y_pred_pre_vgg>0.5, 1, 0)\n",
        "\n",
        "print('Confusion Matrix')\n",
        "\n",
        "cm_pre_vgg = confusion_matrix(test_set.classes, y_pred_pre_vgg)\n",
        "\n",
        "plot_confusion_matrix(cm_pre_vgg, target_names_pre_vgg, title='Confusion Matrix')"
      ],
      "execution_count": null,
      "outputs": [
        {
          "output_type": "stream",
          "name": "stdout",
          "text": [
            "['Parasitized', 'Uninfected']\n"
          ]
        },
        {
          "output_type": "stream",
          "name": "stderr",
          "text": [
            "/usr/local/lib/python3.7/dist-packages/keras/engine/training.py:2035: UserWarning: `Model.predict_generator` is deprecated and will be removed in a future version. Please use `Model.predict`, which supports generators.\n",
            "  warnings.warn('`Model.predict_generator` is deprecated and '\n"
          ]
        },
        {
          "output_type": "stream",
          "name": "stdout",
          "text": [
            "Confusion Matrix\n",
            "Normalized confusion matrix\n"
          ]
        },
        {
          "output_type": "display_data",
          "data": {
            "image/png": "[encoded data removed]",
            "text/plain": [
              "<Figure size 720x720 with 2 Axes>"
            ]
          },
          "metadata": {
            "needs_background": "light"
          }
        }
      ]
    },
    {
      "cell_type": "markdown",
      "metadata": {
        "id": "BS5lUVI1eOtw"
      },
      "source": [
        "# Part 4-Classification report"
      ]
    },
    {
      "cell_type": "code",
      "metadata": {
        "colab": {
          "base_uri": "https://localhost:8080/"
        },
        "id": "4xfsk6HdeOtw",
        "outputId": "bbdd582b-d310-43b9-e482-8467a5eb74c3"
      },
      "source": [
        "report_vgg = classification_report(test_set.classes, y_pred_pre_vgg, target_names=target_names_pre_vgg)\n",
        "print(report_vgg)"
      ],
      "execution_count": null,
      "outputs": [
        {
          "output_type": "stream",
          "name": "stdout",
          "text": [
            "              precision    recall  f1-score   support\n",
            "\n",
            " Parasitized       0.95      0.97      0.96       689\n",
            "  Uninfected       0.97      0.95      0.96       689\n",
            "\n",
            "    accuracy                           0.96      1378\n",
            "   macro avg       0.96      0.96      0.96      1378\n",
            "weighted avg       0.96      0.96      0.96      1378\n",
            "\n"
          ]
        }
      ]
    },
    {
      "cell_type": "code",
      "metadata": {
        "colab": {
          "base_uri": "https://localhost:8080/"
        },
        "id": "PRkmeR6JeOtw",
        "outputId": "642f26dd-bf6c-4681-d2e0-27f48499f6af"
      },
      "source": [
        "from sklearn.metrics import accuracy_score\n",
        "accuracy_score(test_set.classes, y_pred_pre)"
      ],
      "execution_count": null,
      "outputs": [
        {
          "output_type": "execute_result",
          "data": {
            "text/plain": [
              "0.9600870827285921"
            ]
          },
          "metadata": {},
          "execution_count": 29
        }
      ]
    },
    {
      "cell_type": "markdown",
      "metadata": {
        "id": "PANRfntgeiZI"
      },
      "source": [
        "# Part 5-Model accuracy and loss graphs"
      ]
    },
    {
      "cell_type": "code",
      "metadata": {
        "colab": {
          "base_uri": "https://localhost:8080/",
          "height": 573
        },
        "id": "GYfBuAtceiZJ",
        "outputId": "199c03bb-fb93-4f6a-a7ff-341f3adb2f90"
      },
      "source": [
        "import matplotlib.pyplot as plt\n",
        "#Graphing our training and validation\n",
        "\n",
        "\n",
        "acc = results_pre_vgg.history['accuracy']\n",
        "val_acc = results_pre_vgg.history['val_accuracy']\n",
        "loss = results_pre_vgg.history['loss']\n",
        "val_loss = results_pre_vgg.history['val_loss']\n",
        "epochs = range(len(acc))\n",
        "\n",
        "\n",
        "plt.plot(epochs, acc, 'r', label= 'Training acc')\n",
        "plt.plot(epochs, val_acc, 'b', label= 'Validation acc')\n",
        "plt.title('Training and validation accuracy')\n",
        "plt.ylabel('accuracy') \n",
        "plt.xlabel('epoch')\n",
        "plt.legend()\n",
        "plt.figure()\n",
        "\n",
        "\n",
        "plt.plot(epochs, loss, 'r', label='Training loss')\n",
        "plt.plot(epochs, val_loss, 'b', label='Validation loss')\n",
        "plt.title('Training and validation loss')\n",
        "plt.ylabel('loss') \n",
        "plt.xlabel('epoch')\n",
        "plt.legend()\n",
        "plt.show()\n",
        "\n"
      ],
      "execution_count": null,
      "outputs": [
        {
          "output_type": "display_data",
          "data": {
            "image/png": "[encoded data removed]",
            "text/plain": [
              "<Figure size 432x288 with 1 Axes>"
            ]
          },
          "metadata": {
            "needs_background": "light"
          }
        },
        {
          "output_type": "display_data",
          "data": {
            "image/png": "[encoded data removed]",
            "text/plain": [
              "<Figure size 432x288 with 1 Axes>"
            ]
          },
          "metadata": {
            "needs_background": "light"
          }
        }
      ]
    },
    {
      "cell_type": "markdown",
      "metadata": {
        "id": "2CG5C44ie6cx"
      },
      "source": [
        "# Part 6 - Saving and Loading the model for prediction"
      ]
    },
    {
      "cell_type": "code",
      "metadata": {
        "id": "dqilxIDle6cx"
      },
      "source": [
        "from keras.models import model_from_json\n",
        "from keras.models import load_model"
      ],
      "execution_count": null,
      "outputs": []
    },
    {
      "cell_type": "code",
      "metadata": {
        "id": "oX9IY2Z4e6cy"
      },
      "source": [
        "# serialize model to JSON\n",
        "model_json = pre_trained_model_Vgg.to_json()\n",
        "with open(\"/content/best_Model_weights.json\", \"w\") as json_file:\n",
        "    json_file.write(model_json)"
      ],
      "execution_count": null,
      "outputs": []
    },
    {
      "cell_type": "code",
      "metadata": {
        "id": "xeRUk0rfe6cy"
      },
      "source": [
        "# load json and create model\n",
        "json_file = open('/content/best_Model_weights.json', 'r')\n",
        "loaded_model_json = json_file.read()\n",
        "json_file.close()\n",
        "loaded_model = model_from_json(loaded_model_json)\n",
        "\n",
        "# load weights into new model\n",
        "loaded_model.load_weights('best_Model_weights.h5')"
      ],
      "execution_count": null,
      "outputs": []
    },
    {
      "cell_type": "code",
      "metadata": {
        "colab": {
          "base_uri": "https://localhost:8080/"
        },
        "id": "12BeXrdFe6cy",
        "outputId": "93d03b16-11c4-4bfd-a7b0-2ab4d761bebd"
      },
      "source": [
        "# evaluate loaded model on test data\n",
        "loaded_model.compile(loss='binary_crossentropy', optimizer='adam', metrics=['accuracy'])\n",
        "score = loaded_model.evaluate(test_set, verbose=0)\n",
        "print (\"%s: %.2f%%\" % (loaded_model.metrics_names[1], score[1]*100))"
      ],
      "execution_count": null,
      "outputs": [
        {
          "output_type": "stream",
          "name": "stdout",
          "text": [
            "accuracy: 97.02%\n"
          ]
        }
      ]
    },
    {
      "cell_type": "markdown",
      "metadata": {
        "id": "-FaGcRa8QPES"
      },
      "source": [
        "###### The Vgg16 model achievd accuracy 97.02% and showed the best performance."
      ]
    },
    {
      "cell_type": "markdown",
      "metadata": {
        "id": "Q5lw92Lje_qa"
      },
      "source": [
        "# Part 7 - Deploying the model to Predict a single sample."
      ]
    },
    {
      "cell_type": "code",
      "metadata": {
        "id": "apVo7gJMe_qb"
      },
      "source": [
        "from tensorflow.keras.applications.resnet50 import preprocess_input, decode_predictions\n",
        "from tensorflow.keras.preprocessing import image\n",
        "\n",
        "# Helper libraries\n",
        "\n",
        "def classify(img_path):\n",
        "    img = image.load_img(img_path, target_size=(224, 224))\n",
        "    img_array = image.img_to_array(img)\n",
        "\n",
        "    img_batch = np.expand_dims(img_array, axis=0)\n",
        "\n",
        "    img_preprocessed = preprocess_input(img_batch)\n",
        "\n",
        "    prediction = pre_trained_model_Vgg.predict(img_preprocessed)\n",
        "\n",
        "    print(decode_predictions(prediction, top=3)[0])\n",
        "\n",
        "classify(\"./samples/112_malaria.jpg\")"
      ],
      "execution_count": null,
      "outputs": []
    }
  ]
}